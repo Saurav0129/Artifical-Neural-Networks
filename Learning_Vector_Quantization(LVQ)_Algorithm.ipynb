{
  "nbformat": 4,
  "nbformat_minor": 0,
  "metadata": {
    "colab": {
      "provenance": []
    },
    "kernelspec": {
      "name": "python3",
      "display_name": "Python 3"
    },
    "language_info": {
      "name": "python"
    }
  },
  "cells": [
    {
      "cell_type": "markdown",
      "source": [
        "**Learning Vector Quantization(LVQ) Algorithm**\n",
        "\n",
        "Step 0: Initialize the reference vectors. From the given set of training vectors, take the first n vectors (the number of clusters for training vectors) and use them as weight vectors and the remaining vectors for training.\n",
        "\n",
        "Step 1: Calculate the Euclidean distance of each training sample to each weight vector using the Euclidean distance formula:\n",
        "\n",
        "```\n",
        "  D(j) = ∑ i=1 to n (Wij-Xi)²\n",
        "```\n",
        "\n",
        "\n",
        "Step 2: Evaluate the winning Unit index J , for which D(j) is Maximum.\n",
        "\n",
        "Step 3: Update the weight in the winning unit using:\n",
        "\n",
        "       * if T=J\n",
        "         Wnew = Wold+ɳ*(Xi-Wold)\n",
        "       * if T≠J\n",
        "         Wnew = Wold-ɳ*(Xi-Wold)"
      ],
      "metadata": {
        "id": "ZMuBrCjfPA3a"
      }
    },
    {
      "cell_type": "code",
      "execution_count": 41,
      "metadata": {
        "id": "H-vpyCS3QW_d"
      },
      "outputs": [],
      "source": [
        "import numpy as np\n",
        "from itertools import product"
      ]
    },
    {
      "cell_type": "code",
      "source": [
        "labels = np.random.choice([1, 2], size=16, replace=True)\n",
        "np.random.shuffle(labels)\n",
        "print(labels)"
      ],
      "metadata": {
        "colab": {
          "base_uri": "https://localhost:8080/"
        },
        "id": "VmWGD8nYQ66I",
        "outputId": "436d746a-076b-40f8-f37a-543149416bd9"
      },
      "execution_count": 42,
      "outputs": [
        {
          "output_type": "stream",
          "name": "stdout",
          "text": [
            "[2 1 1 2 1 2 1 1 1 2 2 1 2 2 1 1]\n"
          ]
        }
      ]
    },
    {
      "cell_type": "code",
      "source": [
        "combinations = list(product([0, 1], repeat=4))\n",
        "combinations_array = np.array(combinations)\n",
        "np.random.shuffle(combinations_array)\n",
        "print(combinations_array)"
      ],
      "metadata": {
        "colab": {
          "base_uri": "https://localhost:8080/"
        },
        "id": "VnDfq77hSfxg",
        "outputId": "a3e23578-d85c-4f3a-ed13-dd70f0b274fc"
      },
      "execution_count": 43,
      "outputs": [
        {
          "output_type": "stream",
          "name": "stdout",
          "text": [
            "[[1 0 1 1]\n",
            " [0 1 1 1]\n",
            " [1 0 0 0]\n",
            " [0 0 1 1]\n",
            " [1 1 1 0]\n",
            " [0 0 0 0]\n",
            " [1 0 1 0]\n",
            " [0 0 0 1]\n",
            " [0 0 1 0]\n",
            " [1 0 0 1]\n",
            " [1 1 0 0]\n",
            " [0 1 1 0]\n",
            " [0 1 0 0]\n",
            " [0 1 0 1]\n",
            " [1 1 0 1]\n",
            " [1 1 1 1]]\n"
          ]
        }
      ]
    },
    {
      "cell_type": "code",
      "source": [
        "len(combinations_array)"
      ],
      "metadata": {
        "colab": {
          "base_uri": "https://localhost:8080/"
        },
        "id": "6mRyfgJ2MRoP",
        "outputId": "492e3bc4-8e83-4b27-c1a1-626237564b7b"
      },
      "execution_count": 44,
      "outputs": [
        {
          "output_type": "execute_result",
          "data": {
            "text/plain": [
              "16"
            ]
          },
          "metadata": {},
          "execution_count": 44
        }
      ]
    },
    {
      "cell_type": "code",
      "source": [
        "learning_rate=0.1"
      ],
      "metadata": {
        "id": "GjpF03fdW9Qi"
      },
      "execution_count": 45,
      "outputs": []
    },
    {
      "cell_type": "code",
      "source": [
        "def Euclidean_distance(array1, array2):\n",
        "    return np.sum((array1 - array2) ** 2)"
      ],
      "metadata": {
        "id": "Hb44N5jvStFh"
      },
      "execution_count": 46,
      "outputs": []
    },
    {
      "cell_type": "code",
      "source": [
        "def winning(w1,w2,label1,label2,sample_data):\n",
        "  distance1=Euclidean_distance(sample_data,w1)\n",
        "  distance2=Euclidean_distance(sample_data,w2)\n",
        "  if(distance1<distance2):\n",
        "    j= label1\n",
        "    return j,w1\n",
        "  else:\n",
        "    j=label2\n",
        "    return j,w2"
      ],
      "metadata": {
        "id": "jaxVD3PUVUTx"
      },
      "execution_count": 47,
      "outputs": []
    },
    {
      "cell_type": "code",
      "source": [
        "def LVQ(refrence_vectors, labels, epochs, learning_rate):\n",
        "    W1 = refrence_vectors[0]\n",
        "    label1 = labels[0]\n",
        "    W2 = refrence_vectors[1]\n",
        "    label2 = labels[1]\n",
        "    misclassifications_per_epoch = []\n",
        "    error_rate=[]\n",
        "\n",
        "    for epoch in range(epochs):\n",
        "        misclassified = 0\n",
        "        for i in range(2, 16):\n",
        "            w1 = W1\n",
        "            w2 = W2\n",
        "            sample_data = refrence_vectors[i]\n",
        "            j, w = winning(w1, w2, label1, label2, sample_data)\n",
        "            t = labels[i]\n",
        "            if t == j:\n",
        "                if w is W1:\n",
        "                    W1 = W1 + learning_rate * (sample_data - w1)\n",
        "                else:\n",
        "                    W2 = W2 + learning_rate * (sample_data - w2)\n",
        "            else:\n",
        "                misclassified += 1\n",
        "                if w is W1:\n",
        "                    W1 = W1 - learning_rate * (sample_data - w1)\n",
        "                else:\n",
        "                    W2 = W2 - learning_rate * (sample_data - w2)\n",
        "        misclassifications_per_epoch.append(misclassified)\n",
        "        error=misclassified/len(refrence_vectors)\n",
        "        error_rate.append(error)\n",
        "    return W1, W2, misclassifications_per_epoch,error_rate\n",
        "\n",
        "W1, W2, misclassifications_per_epoch,error_rate = LVQ(combinations_array , labels,30, learning_rate)\n",
        "print(\"W1:\", W1)\n",
        "print(\"W2:\", W2)\n",
        "print(\"Misclassifications per epoch:\", misclassifications_per_epoch)"
      ],
      "metadata": {
        "colab": {
          "base_uri": "https://localhost:8080/"
        },
        "id": "EO4TADJYZM1j",
        "outputId": "61080132-9e3c-4d96-a68a-04cbaee36790"
      },
      "execution_count": 48,
      "outputs": [
        {
          "output_type": "stream",
          "name": "stdout",
          "text": [
            "W1: [ 1.48562829 -0.59053363  2.23418516  2.23180136]\n",
            "W2: [1.10106565 0.48626757 1.6846115  0.13114122]\n",
            "Misclassifications per epoch: [9, 9, 9, 8, 6, 6, 6, 6, 6, 6, 6, 6, 6, 6, 6, 6, 6, 6, 6, 6, 6, 6, 6, 6, 6, 6, 6, 6, 6, 6]\n"
          ]
        }
      ]
    },
    {
      "cell_type": "code",
      "source": [
        "print(\"Error for each epoch:\")\n",
        "for i in range(30):\n",
        "  print(f\"Epoch {i+1} : Error={error_rate[i]}\")"
      ],
      "metadata": {
        "colab": {
          "base_uri": "https://localhost:8080/"
        },
        "id": "86n0wb8hMj_m",
        "outputId": "7b3441cc-885a-49bf-823e-e2019c563016"
      },
      "execution_count": 49,
      "outputs": [
        {
          "output_type": "stream",
          "name": "stdout",
          "text": [
            "Error for each epoch:\n",
            "Epoch 1 : Error=0.5625\n",
            "Epoch 2 : Error=0.5625\n",
            "Epoch 3 : Error=0.5625\n",
            "Epoch 4 : Error=0.5\n",
            "Epoch 5 : Error=0.375\n",
            "Epoch 6 : Error=0.375\n",
            "Epoch 7 : Error=0.375\n",
            "Epoch 8 : Error=0.375\n",
            "Epoch 9 : Error=0.375\n",
            "Epoch 10 : Error=0.375\n",
            "Epoch 11 : Error=0.375\n",
            "Epoch 12 : Error=0.375\n",
            "Epoch 13 : Error=0.375\n",
            "Epoch 14 : Error=0.375\n",
            "Epoch 15 : Error=0.375\n",
            "Epoch 16 : Error=0.375\n",
            "Epoch 17 : Error=0.375\n",
            "Epoch 18 : Error=0.375\n",
            "Epoch 19 : Error=0.375\n",
            "Epoch 20 : Error=0.375\n",
            "Epoch 21 : Error=0.375\n",
            "Epoch 22 : Error=0.375\n",
            "Epoch 23 : Error=0.375\n",
            "Epoch 24 : Error=0.375\n",
            "Epoch 25 : Error=0.375\n",
            "Epoch 26 : Error=0.375\n",
            "Epoch 27 : Error=0.375\n",
            "Epoch 28 : Error=0.375\n",
            "Epoch 29 : Error=0.375\n",
            "Epoch 30 : Error=0.375\n"
          ]
        }
      ]
    },
    {
      "cell_type": "code",
      "source": [
        "import matplotlib.pyplot as plt\n",
        "plt.plot(range(1,31),error_rate,marker='o')\n",
        "plt.title('Error Rate Per Epoch')\n",
        "plt.xlabel('Epoch')\n",
        "plt.ylabel('Error Rate')\n",
        "plt.grid(True)\n",
        "plt.show()"
      ],
      "metadata": {
        "colab": {
          "base_uri": "https://localhost:8080/",
          "height": 472
        },
        "id": "ZxCy247GN0am",
        "outputId": "985931eb-90b3-4181-8c8b-e7d7b792e16f"
      },
      "execution_count": 50,
      "outputs": [
        {
          "output_type": "display_data",
          "data": {
            "text/plain": [
              "<Figure size 640x480 with 1 Axes>"
            ],
            "image/png": "[encoded data removed]"
          },
          "metadata": {}
        }
      ]
    },
    {
      "cell_type": "markdown",
      "source": [
        "**Conclusion**\n",
        "\n",
        "In this program, we implemented the Learning Vector Quantization (LVQ) algorithm to classify data into predefined classes.\n",
        "The LVQ algorithm involves several steps:\n",
        "\n",
        "1. Initialization of Reference Vectors\n",
        "2. Calculation of Euclidean Distance\n",
        "3. Evaluation of Winning Unit\n",
        "4. Updating the Weight in the Winning Unit\n",
        "\n",
        "After implementing the LVQ algorithm, we observed the convergence of weights over epochs. The misclassifications per epoch decreased gradually, indicating the learning process of the algorithm. Additionally, we calculated the error rate for each epoch to assess the algorithm's performance.\n",
        "\n",
        "Overall, the LVQ algorithm demonstrated its capability to classify data effectively based on predefined classes, making it a valuable tool for pattern recognition and classification tasks.\n"
      ],
      "metadata": {
        "id": "7JtsuEMwTvMo"
      }
    }
  ]
}